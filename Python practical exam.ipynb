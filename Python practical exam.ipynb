{
 "cells": [
  {
   "cell_type": "markdown",
   "id": "8dd844e6-0bb4-4abf-9429-5bc576ceec6b",
   "metadata": {},
   "source": [
    "# 1)\tWhat is Python Programming Language and explain features of Python Programming Language..\r\n"
   ]
  },
  {
   "cell_type": "code",
   "execution_count": null,
   "id": "bff00a37-d397-4b87-a398-3b88d032d371",
   "metadata": {},
   "outputs": [],
   "source": [
    "Ans:- Python is a dynamic ,high-level, free open source ,and interpreted programming language. If supports object-oriented programming as well as procedural-oriented programming. IN Python, we don’t need to declare the type of variable because it is a dynamically typed language.\n",
    "The following are some of the features in python that are below:-\n",
    "1.\tEasy to code-  python is a very high-level programming language ,yet it is effortless to learn. Anyone can learn to code in python in just a few days.\n",
    "2.\tEasy to read- Pyhton code looks like simple English words.there is no use of semicolons or brackets,and the indentations define the code block you can tell what the code is supposed to do simply by looking at it,\n",
    "3.\tFree and open source- Python is free and open source language. Python is developed under an OSI-approved open source license. Hence  it  is completely free to use , even for commercial purposes.\n"
   ]
  },
  {
   "cell_type": "markdown",
   "id": "ff2cf80d-dd17-47fc-99a8-05100993810c",
   "metadata": {},
   "source": [
    "# 2) Write a Python Program to reverse only the vowels of a given String..\r\n"
   ]
  },
  {
   "cell_type": "code",
   "execution_count": 3,
   "id": "89de1966-f2b1-4cfe-a3fc-01b8dd94a8e6",
   "metadata": {},
   "outputs": [],
   "source": [
    "def reverse_vowels(str1):\n",
    "    vowels =\"\"\n",
    "    for char in str1:\n",
    "        if char in \"aeiouAEIOU\":\n",
    "            vowels += char\n",
    "        result_string =\"\"\n",
    "        for char in str1:\n",
    "            if char in\"aeiouAEIOU\":\n",
    "                result_string += vowels[-1]\n",
    "                vowel = vowels[:-1]\n",
    "            else:\n",
    "                result_string +=char \n",
    "            return result_string\n",
    "        print(reverse_vowels(\"w3resource\"))\n",
    "        print(reverse_vowel(\"Python\"))\n",
    "        print(reverse_vowel(\"Per1\"))\n",
    "              \n"
   ]
  },
  {
   "cell_type": "markdown",
   "id": "95afd067-08b2-4d16-a039-ce8015b041d0",
   "metadata": {},
   "source": [
    "# 3) Write a Python Program to check whether a given integer is a palindrome or not.\r\n"
   ]
  },
  {
   "cell_type": "code",
   "execution_count": null,
   "id": "95314a9b-636b-4e5b-b701-8d2e57f8ae23",
   "metadata": {},
   "outputs": [],
   "source": []
  },
  {
   "cell_type": "markdown",
   "id": "cd6620e6-1c18-47ce-8952-4052467f3670",
   "metadata": {},
   "source": [
    "#  4) Write a Python Program to remove the duplicate elements of agiven array of numbers such that each element appear only on \r\n",
    "and return the new leng h of the given array.\r\n"
   ]
  },
  {
   "cell_type": "code",
   "execution_count": 1,
   "id": "159a45c6-5192-4656-b002-25b530fcb92e",
   "metadata": {},
   "outputs": [],
   "source": [
    "def remove_duplicates(nums):\n",
    "    for i in range (len(nyms)-1,0,-1):\n",
    "        if nums[i]==nums[i-1]:\n",
    "            del nums[i-1]\n",
    "            return len(nums)\n",
    "    print(remove_duplicates([0,0,1,2,3,4,6,4,]))\n",
    "    print(remove_duplicates([1,2,3,4,3,1,6,5,6,7,8,]))"
   ]
  },
  {
   "cell_type": "code",
   "execution_count": null,
   "id": "de662352-a3dd-46d5-a6b8-952c65f994c1",
   "metadata": {},
   "outputs": [],
   "source": []
  }
 ],
 "metadata": {
  "kernelspec": {
   "display_name": "Python 3 (ipykernel)",
   "language": "python",
   "name": "python3"
  },
  "language_info": {
   "codemirror_mode": {
    "name": "ipython",
    "version": 3
   },
   "file_extension": ".py",
   "mimetype": "text/x-python",
   "name": "python",
   "nbconvert_exporter": "python",
   "pygments_lexer": "ipython3",
   "version": "3.11.5"
  }
 },
 "nbformat": 4,
 "nbformat_minor": 5
}
